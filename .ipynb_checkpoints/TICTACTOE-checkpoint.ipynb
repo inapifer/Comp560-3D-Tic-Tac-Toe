{
 "cells": [
  {
   "cell_type": "code",
   "execution_count": 43,
   "metadata": {},
   "outputs": [],
   "source": [
    "import numpy as np\n",
    "import random\n",
    "from time import sleep"
   ]
  },
  {
   "cell_type": "code",
   "execution_count": 44,
   "metadata": {},
   "outputs": [],
   "source": [
    "#Dont touch this functions!!Copy here when it is checked and is ok\n",
    "#Converting a number into some base N with vector length L\n",
    "#Number that players have: player1=1 or player2=2\n",
    "#We will consider during the whole exercise matrix as i, rows as j and columns as k\n",
    "player1=1\n",
    "player2=2\n",
    "def baseN(N,number):\n",
    "    base=[]\n",
    "    while number!=0:\n",
    "        resto=number%N\n",
    "        base.insert(0,resto)\n",
    "        number=number//N\n",
    "    return base\n",
    "#Converting a vector with base in N into an integer\n",
    "def convert(N,base):\n",
    "    number=0\n",
    "    L=len(base)\n",
    "    for i in range(L):\n",
    "        number=number+base[i]*N**i\n",
    "    return number\n",
    "#Create a new board\n",
    "def create_board():\n",
    "    mat=np.array([[[0 for i in range(4)] for j in range(4)] for k in range(4)])\n",
    "    return mat\n",
    "#Checking empty spaces\n",
    "def possibilities(board):\n",
    "    pos=[]\n",
    "    N=len(board)\n",
    "    for i in range(N):\n",
    "        for j in range(N):\n",
    "            for k in range(N):\n",
    "                if board[i,j,k]==0:\n",
    "                   pos.append((i,j,k))               \n",
    "    return(pos)\n",
    "def valueOfBlock(board):\n",
    "     mat=np.array([[[0 for i in range(4)] for j in range(4)] for k in range(4)])\n",
    "    return mat"
   ]
  },
  {
   "cell_type": "code",
   "execution_count": 55,
   "metadata": {},
   "outputs": [],
   "source": [
    "#Assignating a random position to me or the adversary considering the possibilities\n",
    "def random_place(board,player):\n",
    "    possible=possibilities(board)\n",
    "    selection=random.choice(possible)\n",
    "    possible.remove(selection)# the selection is no longer possible after you choose it\n",
    "    board[selection]=player# [(i,j,k)] could access 3d array\n",
    "    return board"
   ]
  },
  {
   "cell_type": "code",
   "execution_count": 46,
   "metadata": {},
   "outputs": [],
   "source": [
    "#Row checker. For now only for each matrix separated\n",
    "def row_winner(board,player):\n",
    "    N=len(board)\n",
    "    for i in range(N):\n",
    "        for j in range(N):\n",
    "            win=True\n",
    "            for k in range(N):\n",
    "                if board[i,j,k]!=player:\n",
    "                    win=False\n",
    "                    break # used to be continue\n",
    "                return win\n",
    "    return win    "
   ]
  },
  {
   "cell_type": "code",
   "execution_count": 53,
   "metadata": {},
   "outputs": [
    {
     "name": "stdout",
     "output_type": "stream",
     "text": [
      "[(0, 0, 0), (0, 0, 1), (0, 0, 2), (0, 0, 3), (0, 1, 0), (0, 1, 1), (0, 1, 2), (0, 1, 3), (0, 2, 0), (0, 2, 1), (0, 2, 2), (0, 2, 3), (0, 3, 0), (0, 3, 1), (0, 3, 2), (0, 3, 3), (1, 0, 0), (1, 0, 1), (1, 0, 2), (1, 0, 3), (1, 1, 0), (1, 1, 1), (1, 1, 2), (1, 1, 3), (1, 2, 0), (1, 2, 1), (1, 2, 2), (1, 2, 3), (1, 3, 0), (1, 3, 1), (1, 3, 2), (1, 3, 3), (2, 0, 0), (2, 0, 1), (2, 0, 2), (2, 0, 3), (2, 1, 0), (2, 1, 1), (2, 1, 2), (2, 1, 3), (2, 2, 0), (2, 2, 1), (2, 2, 2), (2, 2, 3), (2, 3, 0), (2, 3, 1), (2, 3, 2), (2, 3, 3), (3, 0, 0), (3, 0, 1), (3, 0, 2), (3, 0, 3), (3, 1, 0), (3, 1, 1), (3, 1, 2), (3, 1, 3), (3, 2, 0), (3, 2, 1), (3, 2, 2), (3, 2, 3), (3, 3, 0), (3, 3, 1), (3, 3, 2), (3, 3, 3)]\n"
     ]
    }
   ],
   "source": [
    "board = create_board()\n",
    "pos = possibilities(board)\n",
    "print(pos)\n",
    "\n"
   ]
  },
  {
   "cell_type": "code",
   "execution_count": 54,
   "metadata": {},
   "outputs": [
    {
     "name": "stdout",
     "output_type": "stream",
     "text": [
      "[[[0 0 0 0]\n",
      "  [0 0 0 0]\n",
      "  [0 0 0 0]\n",
      "  [0 0 0 0]]\n",
      "\n",
      " [[0 0 0 0]\n",
      "  [0 0 0 0]\n",
      "  [0 0 0 0]\n",
      "  [0 0 0 0]]\n",
      "\n",
      " [[0 0 0 0]\n",
      "  [0 2 0 0]\n",
      "  [0 0 0 0]\n",
      "  [0 0 0 0]]\n",
      "\n",
      " [[0 0 0 0]\n",
      "  [0 0 0 0]\n",
      "  [0 0 0 0]\n",
      "  [0 0 0 0]]]\n"
     ]
    }
   ],
   "source": [
    "random_place(board,player2)\n",
    "print(board)"
   ]
  },
  {
   "cell_type": "code",
   "execution_count": 49,
   "metadata": {},
   "outputs": [],
   "source": [
    "def column_winner(board,player):\n",
    "    N=len(board)\n",
    "    #Matrix i\n",
    "    for i in range(N):\n",
    "        #Column k\n",
    "        for k in range(N):\n",
    "            win=True\n",
    "            #Row j\n",
    "            for j in range(N):\n",
    "                if board[i,j,k]!=player:\n",
    "                    win=False\n",
    "                    break # used to be continue\n",
    "            if win==True:\n",
    "                return win\n",
    "    return win        "
   ]
  },
  {
   "cell_type": "code",
   "execution_count": 50,
   "metadata": {},
   "outputs": [],
   "source": [
    "def column3D_winner(board,player):\n",
    "    N=len(board)\n",
    "    #Row j\n",
    "    for j in range(N):\n",
    "        #Column k\n",
    "        for k in range(N):\n",
    "            win=True\n",
    "            #matrix i\n",
    "            for i in range(N):\n",
    "                if board[i,j,k]!=player:\n",
    "                    win=False\n",
    "                    continue\n",
    "            if win==True:\n",
    "                    return win            \n",
    "    return win            "
   ]
  },
  {
   "cell_type": "code",
   "execution_count": 51,
   "metadata": {},
   "outputs": [],
   "source": [
    "#For checking if there is a winner in a single board around the diagonals\n",
    "#For now only the main diagonal, you need the other\n",
    "def diag_winner(board,player):\n",
    "    N=len(board)\n",
    "    #Matrix i\n",
    "    for i in range(N):\n",
    "        win=True\n",
    "        for j in range(N):\n",
    "            if board[i,j,j]!=player:\n",
    "                win=False\n",
    "        if win==True:\n",
    "            return win\n",
    "    return win        \n",
    "            "
   ]
  },
  {
   "cell_type": "code",
   "execution_count": 52,
   "metadata": {},
   "outputs": [],
   "source": [
    "#Try of both diagonals\n",
    "def diags_winner(board,player):\n",
    "    N=len(board)\n",
    "    #Matrix i\n",
    "    for i in range(N):\n",
    "        win=True\n",
    "        #Diags\n",
    "        for j in range(N):\n",
    "            if board[i,j,j]!=player:\n",
    "                win=False\n",
    "        if win==True:\n",
    "            return win \n",
    "     #Matrix i   \n",
    "    for i in range(N):\n",
    "        win=True\n",
    "        #Rows and columns\n",
    "        for j in range(N):\n",
    "            if board[i,j,(N-1)-j]!=player:\n",
    "                win=False\n",
    "        if win==True:\n",
    "            return win\n",
    "    return win    "
   ]
  },
  {
   "cell_type": "code",
   "execution_count": null,
   "metadata": {},
   "outputs": [],
   "source": [
    "def play"
   ]
  },
  {
   "cell_type": "code",
   "execution_count": null,
   "metadata": {},
   "outputs": [],
   "source": []
  }
 ],
 "metadata": {
  "kernelspec": {
   "display_name": "Python 3",
   "language": "python",
   "name": "python3"
  },
  "language_info": {
   "codemirror_mode": {
    "name": "ipython",
    "version": 3
   },
   "file_extension": ".py",
   "mimetype": "text/x-python",
   "name": "python",
   "nbconvert_exporter": "python",
   "pygments_lexer": "ipython3",
   "version": "3.7.1"
  }
 },
 "nbformat": 4,
 "nbformat_minor": 2
}
